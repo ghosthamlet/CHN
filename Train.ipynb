{
 "cells": [
  {
   "cell_type": "code",
   "execution_count": 30,
   "metadata": {
    "require": [
     "notebook/js/codecell"
    ]
   },
   "outputs": [],
   "source": [
    "# https://scikit-learn.org/stable/auto_examples/text/plot_document_classification_20newsgroups.html#sphx-glr-auto-examples-text-plot-document-classification-20newsgroups-py\n",
    "\n",
    "import re\n",
    "import string\n",
    "\n",
    "import numpy as np\n",
    "import pandas as pd\n",
    "import matplotlib.pyplot as plt\n",
    "\n",
    "from sklearn.model_selection import train_test_split\n",
    "from sklearn.feature_extraction.text import TfidfVectorizer\n",
    "from sklearn.feature_selection import SelectKBest, chi2, SelectFromModel\n",
    "from sklearn.decomposition import PCA\n",
    "from sklearn.preprocessing import LabelEncoder\n",
    "from sklearn.naive_bayes import BernoulliNB, MultinomialNB, ComplementNB\n",
    "from sklearn.linear_model import LogisticRegression, SGDClassifier\n",
    "from sklearn.ensemble import RandomForestClassifier\n",
    "from sklearn.tree import DecisionTreeClassifier\n",
    "from sklearn.svm import SVC, LinearSVC\n",
    "\n",
    "from sklearn import metrics\n",
    "\n",
    "import qgrid\n",
    "# can't work\n",
    "from jupyter_datatables import init_datatables_mode\n",
    "import pandas_profiling\n"
   ]
  },
  {
   "cell_type": "code",
   "execution_count": 2,
   "metadata": {},
   "outputs": [],
   "source": [
    "%matplotlib inline\n",
    "# init_datatables_mode()"
   ]
  },
  {
   "cell_type": "code",
   "execution_count": 3,
   "metadata": {},
   "outputs": [
    {
     "name": "stdout",
     "output_type": "stream",
     "text": [
      " AMD PRO A6-9500B R5, 6 COMPUTE CORES 2C+4G\n",
      " AMD PRO A6-9500B R5, 6 COMPUTE CORES 2C+4G\n"
     ]
    }
   ],
   "source": [
    "import os, platform, subprocess, re\n",
    "command = \"cat /proc/cpuinfo\"\n",
    "all_info = subprocess.check_output(command, shell=True).strip()\n",
    "for line in all_info.split(b\"\\n\"):\n",
    "    if b\"model name\" in line:\n",
    "        print(re.sub( \".*model name.*:\", \"\", line.decode(),1))"
   ]
  },
  {
   "cell_type": "markdown",
   "metadata": {
    "heading_collapsed": true
   },
   "source": [
    "# Explore data"
   ]
  },
  {
   "cell_type": "code",
   "execution_count": 4,
   "metadata": {
    "hidden": true
   },
   "outputs": [],
   "source": [
    "data = pd.read_csv('data/reddit.csv')"
   ]
  },
  {
   "cell_type": "code",
   "execution_count": 6,
   "metadata": {
    "hidden": true
   },
   "outputs": [
    {
     "data": {
      "application/vnd.jupyter.widget-view+json": {
       "model_id": "049e1c5ed81d434e96d9831c223dd51f",
       "version_major": 2,
       "version_minor": 0
      },
      "text/plain": [
       "QgridWidget(grid_options={'fullWidthRows': True, 'syncColumnCellResize': True, 'forceFitColumns': True, 'defau…"
      ]
     },
     "metadata": {},
     "output_type": "display_data"
    }
   ],
   "source": [
    "qgrid.show_grid(data[['title', 'cat', 'url']])\n"
   ]
  },
  {
   "cell_type": "code",
   "execution_count": null,
   "metadata": {
    "hidden": true
   },
   "outputs": [],
   "source": [
    "# data.profile_report(style={'full_width':True})"
   ]
  },
  {
   "cell_type": "code",
   "execution_count": null,
   "metadata": {
    "hidden": true
   },
   "outputs": [],
   "source": [
    "data.head()"
   ]
  },
  {
   "cell_type": "code",
   "execution_count": null,
   "metadata": {
    "hidden": true,
    "scrolled": false
   },
   "outputs": [],
   "source": [
    "data.describe()"
   ]
  },
  {
   "cell_type": "code",
   "execution_count": null,
   "metadata": {
    "hidden": true
   },
   "outputs": [],
   "source": [
    "data.cat.value_counts().plot(kind='barh', figsize=(13, 30))"
   ]
  },
  {
   "cell_type": "code",
   "execution_count": null,
   "metadata": {
    "hidden": true
   },
   "outputs": [],
   "source": [
    "data.groupby('cat').count()['url'].plot(kind='barh', figsize=(13, 30))"
   ]
  },
  {
   "cell_type": "code",
   "execution_count": null,
   "metadata": {
    "hidden": true
   },
   "outputs": [],
   "source": [
    "cats_ordered = sorted(data.groupby('cat')['url'].count().items(), key=lambda x: x[1])\n",
    "cats_ordered"
   ]
  },
  {
   "cell_type": "markdown",
   "metadata": {
    "heading_collapsed": true
   },
   "source": [
    "# Clean data"
   ]
  },
  {
   "cell_type": "code",
   "execution_count": null,
   "metadata": {
    "hidden": true
   },
   "outputs": [],
   "source": [
    "import spacy\n",
    "from spacy.lang.en import English\n",
    "from collections import Counter"
   ]
  },
  {
   "cell_type": "code",
   "execution_count": null,
   "metadata": {
    "hidden": true
   },
   "outputs": [],
   "source": [
    "data['lens'] = data.title.map(lambda x: len(x))"
   ]
  },
  {
   "cell_type": "code",
   "execution_count": null,
   "metadata": {
    "hidden": true
   },
   "outputs": [],
   "source": [
    "data.lens.describe()"
   ]
  },
  {
   "cell_type": "code",
   "execution_count": null,
   "metadata": {
    "hidden": true
   },
   "outputs": [],
   "source": [
    "vocabs = data.title.to_string()"
   ]
  },
  {
   "cell_type": "code",
   "execution_count": null,
   "metadata": {
    "hidden": true
   },
   "outputs": [],
   "source": [
    "nlp = English()\n",
    "nlp.max_length = len(vocabs) + 1\n",
    "vocabs_spacy = nlp(vocabs)"
   ]
  },
  {
   "cell_type": "code",
   "execution_count": null,
   "metadata": {
    "hidden": true
   },
   "outputs": [],
   "source": [
    "words = [token.lemma_.lower() for token in vocabs_spacy if not token.is_stop and not token.is_punct and token.lemma_.strip() and not (47 < ord(token.text[0][0]) < 58)]"
   ]
  },
  {
   "cell_type": "code",
   "execution_count": null,
   "metadata": {
    "hidden": true
   },
   "outputs": [],
   "source": [
    "word_freq = Counter(words)\n",
    "print(word_freq.most_common(5))"
   ]
  },
  {
   "cell_type": "code",
   "execution_count": null,
   "metadata": {
    "hidden": true
   },
   "outputs": [],
   "source": [
    "vocabs_dict = {}\n",
    "vocabs_list = sorted(word_freq.items(), key=lambda x: x[1])\n",
    "vocabs_list = [v for v in vocabs_list if not (47 < ord(v[0][0]) < 58)]"
   ]
  },
  {
   "cell_type": "code",
   "execution_count": null,
   "metadata": {
    "hidden": true
   },
   "outputs": [],
   "source": [
    "ord('0'), ord('9'), chr(57)"
   ]
  },
  {
   "cell_type": "code",
   "execution_count": null,
   "metadata": {
    "hidden": true
   },
   "outputs": [],
   "source": [
    "tmp = pd.DataFrame(vocabs_list)"
   ]
  },
  {
   "cell_type": "code",
   "execution_count": null,
   "metadata": {
    "hidden": true
   },
   "outputs": [],
   "source": [
    "a = tmp[tmp[1] > 3][tmp[1] < 50]\n",
    "print(a[1].describe())\n",
    "\n",
    "s = [s for c, s in a[0].items()]\n",
    "ss = {v: 1 for v in s}\n",
    "print(len(s), s[:30], s[-30:])"
   ]
  },
  {
   "cell_type": "code",
   "execution_count": null,
   "metadata": {
    "hidden": true
   },
   "outputs": [],
   "source": [
    "len(vocabs_list), vocabs_list[:30], vocabs_list[-500:-470], vocabs_list[-30:]"
   ]
  },
  {
   "cell_type": "code",
   "execution_count": null,
   "metadata": {
    "hidden": true
   },
   "outputs": [],
   "source": [
    "def clean_sent(xs):\n",
    "    return ' '.join([token.lemma_.strip().lower() \n",
    "                     for token in nlp(xs) \n",
    "                     if not token.is_stop \n",
    "                     and not token.is_punct \n",
    "                     and token.lemma_.strip() \n",
    "                     and token.lemma_.strip().lower() in ss\n",
    "                     # and not (47 < ord(token.text[0][0]) < 58)\n",
    "                    ])\n",
    "\n",
    "data_cleaned = data.title.map(clean_sent)"
   ]
  },
  {
   "cell_type": "code",
   "execution_count": null,
   "metadata": {
    "hidden": true
   },
   "outputs": [],
   "source": [
    "data_cleaned2 = data.copy()\n",
    "data_cleaned2['title'] = data_cleaned"
   ]
  },
  {
   "cell_type": "code",
   "execution_count": null,
   "metadata": {
    "hidden": true
   },
   "outputs": [],
   "source": [
    "data_cleaned2['lens'] = data_cleaned2.title.map(lambda x: len(x))"
   ]
  },
  {
   "cell_type": "code",
   "execution_count": null,
   "metadata": {
    "hidden": true
   },
   "outputs": [],
   "source": [
    "data_cleaned3 = data_cleaned2[data_cleaned2.lens > 0]"
   ]
  },
  {
   "cell_type": "code",
   "execution_count": null,
   "metadata": {
    "hidden": true
   },
   "outputs": [],
   "source": [
    "data_cleaned3.tail(n=10)"
   ]
  },
  {
   "cell_type": "code",
   "execution_count": null,
   "metadata": {
    "hidden": true
   },
   "outputs": [],
   "source": [
    "data_cleaned3.lens.describe()"
   ]
  },
  {
   "cell_type": "code",
   "execution_count": null,
   "metadata": {
    "hidden": true
   },
   "outputs": [],
   "source": [
    "len(data_cleaned3), len(data)"
   ]
  },
  {
   "cell_type": "markdown",
   "metadata": {
    "heading_collapsed": true
   },
   "source": [
    "# Select feature "
   ]
  },
  {
   "cell_type": "code",
   "execution_count": null,
   "metadata": {
    "hidden": true
   },
   "outputs": [],
   "source": [
    "data_train, data_test, data_y_train, data_y_test = \\\n",
    "    train_test_split(data_cleaned3.title, data_cleaned3.cat, \n",
    "#                     train_size=0.3, \n",
    "                    test_size=0.2, \n",
    "                    random_state=42)"
   ]
  },
  {
   "cell_type": "code",
   "execution_count": null,
   "metadata": {
    "hidden": true
   },
   "outputs": [],
   "source": [
    "data_train.shape, data_test.shape, data_y_train.shape"
   ]
  },
  {
   "cell_type": "code",
   "execution_count": null,
   "metadata": {
    "hidden": true
   },
   "outputs": [],
   "source": [
    "vectorizer = TfidfVectorizer(sublinear_tf=True, max_df=0.5,\n",
    "                             stop_words='english').fit(data_cleaned3.title)\n",
    "X_vec_train = vectorizer.transform(data_train)\n",
    "X_vec_test = vectorizer.transform(data_test)"
   ]
  },
  {
   "cell_type": "code",
   "execution_count": null,
   "metadata": {
    "hidden": true
   },
   "outputs": [],
   "source": [
    "X_vec_train.shape"
   ]
  },
  {
   "cell_type": "code",
   "execution_count": null,
   "metadata": {
    "hidden": true
   },
   "outputs": [],
   "source": [
    "le = LabelEncoder()\n",
    "le.fit(data.cat)\n",
    "y_train = le.transform(data_y_train)\n",
    "y_test = le.transform(data_y_test)"
   ]
  },
  {
   "cell_type": "code",
   "execution_count": null,
   "metadata": {
    "hidden": true
   },
   "outputs": [],
   "source": [
    "y_train.shape"
   ]
  },
  {
   "cell_type": "code",
   "execution_count": null,
   "metadata": {
    "hidden": true,
    "scrolled": true
   },
   "outputs": [],
   "source": [
    "# select_chi2 = 5000\n",
    "# ch2 = SelectKBest(chi2, k=select_chi2)\n",
    "# X_train = ch2.fit_transform(X_vec_train, y_train)\n",
    "# X_test = ch2.transform(X_vec_test)\n",
    "# print(select_chi2)\n",
    "X_train = X_vec_train\n",
    "X_test = X_vec_test"
   ]
  },
  {
   "cell_type": "code",
   "execution_count": null,
   "metadata": {
    "hidden": true
   },
   "outputs": [],
   "source": [
    "# le = LabelEncoder()\n",
    "# le.fit(data_train)\n",
    "# X_le_train = le.transform(data_train)\n",
    "# X_le_test = le.transform(data_test)"
   ]
  },
  {
   "cell_type": "code",
   "execution_count": null,
   "metadata": {
    "hidden": true
   },
   "outputs": [],
   "source": [
    "# pca = PCA(n_components=10).fit(X_le_train)\n",
    "# X_train = pca.transform(X_le_train)\n",
    "# X_test = pca.transform(X_le_test)"
   ]
  },
  {
   "cell_type": "code",
   "execution_count": null,
   "metadata": {
    "hidden": true
   },
   "outputs": [],
   "source": [
    "print(y_train[:2], le.inverse_transform(y_train[:2]))\n",
    "X_train.shape, X_test.shape"
   ]
  },
  {
   "cell_type": "code",
   "execution_count": null,
   "metadata": {
    "hidden": true
   },
   "outputs": [],
   "source": [
    "data_train.head()"
   ]
  },
  {
   "cell_type": "code",
   "execution_count": null,
   "metadata": {
    "hidden": true
   },
   "outputs": [],
   "source": [
    "feature_names = vectorizer.get_feature_names()\n",
    "# feature_names = [feature_names[i] for i in ch2.get_support(indices=True)]"
   ]
  },
  {
   "cell_type": "markdown",
   "metadata": {
    "heading_collapsed": true
   },
   "source": [
    "# Train"
   ]
  },
  {
   "cell_type": "code",
   "execution_count": null,
   "metadata": {
    "hidden": true
   },
   "outputs": [],
   "source": [
    "# clf = BernoulliNB(alpha=.01)\n",
    "# clf = RandomForestClassifier(n_estimators=3)\n",
    "clf = LogisticRegression(random_state=0, solver='lbfgs', multi_class='multinomial')\n",
    "clf.fit(X_train, y_train)"
   ]
  },
  {
   "cell_type": "code",
   "execution_count": null,
   "metadata": {
    "hidden": true
   },
   "outputs": [],
   "source": [
    "X_train.shape, y_train.shape"
   ]
  },
  {
   "cell_type": "code",
   "execution_count": null,
   "metadata": {
    "hidden": true
   },
   "outputs": [],
   "source": [
    "pred = clf.predict(X_test)\n",
    "\n",
    "score = metrics.accuracy_score(y_test, pred)\n",
    "print(\"accuracy:   %0.3f\" % score)"
   ]
  },
  {
   "cell_type": "markdown",
   "metadata": {},
   "source": [
    "# Pipline"
   ]
  },
  {
   "cell_type": "code",
   "execution_count": 5,
   "metadata": {
    "scrolled": true
   },
   "outputs": [
    {
     "name": "stderr",
     "output_type": "stream",
     "text": [
      "2019-08-13 15:28:41,489 [5367] WARNING  py.warnings:170: [JupyterRequire] /home/han/.local/lib/python3.6/site-packages/tensorflow/python/framework/dtypes.py:523: FutureWarning: Passing (type, 1) or '1type' as a synonym of type is deprecated; in a future version of numpy, it will be understood as (type, (1,)) / '(1,)type'.\n",
      "  _np_qint8 = np.dtype([(\"qint8\", np.int8, 1)])\n",
      "\n",
      "2019-08-13 15:28:41,494 [5367] WARNING  py.warnings:170: [JupyterRequire] /home/han/.local/lib/python3.6/site-packages/tensorflow/python/framework/dtypes.py:524: FutureWarning: Passing (type, 1) or '1type' as a synonym of type is deprecated; in a future version of numpy, it will be understood as (type, (1,)) / '(1,)type'.\n",
      "  _np_quint8 = np.dtype([(\"quint8\", np.uint8, 1)])\n",
      "\n",
      "2019-08-13 15:28:41,500 [5367] WARNING  py.warnings:170: [JupyterRequire] /home/han/.local/lib/python3.6/site-packages/tensorflow/python/framework/dtypes.py:525: FutureWarning: Passing (type, 1) or '1type' as a synonym of type is deprecated; in a future version of numpy, it will be understood as (type, (1,)) / '(1,)type'.\n",
      "  _np_qint16 = np.dtype([(\"qint16\", np.int16, 1)])\n",
      "\n",
      "2019-08-13 15:28:41,512 [5367] WARNING  py.warnings:170: [JupyterRequire] /home/han/.local/lib/python3.6/site-packages/tensorflow/python/framework/dtypes.py:526: FutureWarning: Passing (type, 1) or '1type' as a synonym of type is deprecated; in a future version of numpy, it will be understood as (type, (1,)) / '(1,)type'.\n",
      "  _np_quint16 = np.dtype([(\"quint16\", np.uint16, 1)])\n",
      "\n",
      "2019-08-13 15:28:41,516 [5367] WARNING  py.warnings:170: [JupyterRequire] /home/han/.local/lib/python3.6/site-packages/tensorflow/python/framework/dtypes.py:527: FutureWarning: Passing (type, 1) or '1type' as a synonym of type is deprecated; in a future version of numpy, it will be understood as (type, (1,)) / '(1,)type'.\n",
      "  _np_qint32 = np.dtype([(\"qint32\", np.int32, 1)])\n",
      "\n",
      "2019-08-13 15:28:41,519 [5367] WARNING  py.warnings:170: [JupyterRequire] /home/han/.local/lib/python3.6/site-packages/tensorflow/python/framework/dtypes.py:532: FutureWarning: Passing (type, 1) or '1type' as a synonym of type is deprecated; in a future version of numpy, it will be understood as (type, (1,)) / '(1,)type'.\n",
      "  np_resource = np.dtype([(\"resource\", np.ubyte, 1)])\n",
      "\n"
     ]
    }
   ],
   "source": [
    "import pandas as pd\n",
    "from sklearn.feature_extraction.text import CountVectorizer,TfidfVectorizer\n",
    "from sklearn.base import TransformerMixin\n",
    "from sklearn.pipeline import Pipeline\n",
    "# or use word2vec in spacy\n",
    "import gensim\n",
    "from imblearn.over_sampling import RandomOverSampler, SMOTE, ADASYN\n",
    "from imblearn.under_sampling import RandomUnderSampler"
   ]
  },
  {
   "cell_type": "code",
   "execution_count": 6,
   "metadata": {
    "scrolled": false
   },
   "outputs": [
    {
     "name": "stdout",
     "output_type": "stream",
     "text": [
      "<class 'pandas.core.frame.DataFrame'>\n",
      "RangeIndex: 163897 entries, 0 to 163896\n",
      "Data columns (total 3 columns):\n",
      "title    163897 non-null object\n",
      "url      163897 non-null object\n",
      "cat      163897 non-null object\n",
      "dtypes: object(3)\n",
      "memory usage: 3.8+ MB\n"
     ]
    }
   ],
   "source": [
    "data.info()"
   ]
  },
  {
   "cell_type": "code",
   "execution_count": 33,
   "metadata": {},
   "outputs": [],
   "source": [
    "spacy.load??"
   ]
  },
  {
   "cell_type": "code",
   "execution_count": 7,
   "metadata": {},
   "outputs": [
    {
     "data": {
      "text/plain": [
       "computer_sound    2890\n",
       "raspberry_pi      2083\n",
       "politics          2061\n",
       "gamedev           1938\n",
       "scifi             1937\n",
       "                  ... \n",
       "csbook             435\n",
       "tcl                261\n",
       "sml                164\n",
       "unikernel          121\n",
       "causality           15\n",
       "Name: cat, Length: 110, dtype: int64"
      ]
     },
     "execution_count": 7,
     "metadata": {},
     "output_type": "execute_result"
    }
   ],
   "source": [
    "data.cat.value_counts()"
   ]
  },
  {
   "cell_type": "code",
   "execution_count": 8,
   "metadata": {},
   "outputs": [
    {
     "data": {
      "text/plain": [
       "array(['life', 'life', 'life', ..., 'programming_tools',\n",
       "       'programming_tools', 'programming_tools'], dtype=object)"
      ]
     },
     "execution_count": 8,
     "metadata": {},
     "output_type": "execute_result"
    }
   ],
   "source": [
    "data.cat.values"
   ]
  },
  {
   "cell_type": "code",
   "execution_count": 11,
   "metadata": {},
   "outputs": [],
   "source": [
    "import string\n",
    "import spacy\n",
    "from spacy.lang.en.stop_words import STOP_WORDS\n",
    "from spacy.lang.en import English\n",
    "\n",
    "# Create our list of punctuation marks\n",
    "punctuations = string.punctuation\n",
    "\n",
    "# Create our list of stopwords\n",
    "nlp = spacy.load('en_core_web_sm')\n",
    "stop_words = spacy.lang.en.stop_words.STOP_WORDS\n",
    "\n",
    "# Load English tokenizer, tagger, parser, NER and word vectors\n",
    "parser = English()\n",
    "\n",
    "# Creating our tokenizer function\n",
    "def spacy_tokenizer(sentence):\n",
    "    # Creating our token object, which is used to create documents with linguistic annotations.\n",
    "    mytokens = parser(sentence)\n",
    "\n",
    "    # Lemmatizing each token and converting each token into lowercase\n",
    "    mytokens = [ word.lemma_.lower().strip() if word.lemma_ != \"-PRON-\" else word.lower_ for word in mytokens ]\n",
    "\n",
    "    # Removing stop words\n",
    "    mytokens = [ word for word in mytokens if word not in stop_words and word not in punctuations ]\n",
    "\n",
    "    # return preprocessed list of tokens\n",
    "    return mytokens"
   ]
  },
  {
   "cell_type": "code",
   "execution_count": 12,
   "metadata": {},
   "outputs": [],
   "source": [
    "# Custom transformer using spaCy\n",
    "class predictors(TransformerMixin):\n",
    "    def transform(self, X, **transform_params):\n",
    "        # Cleaning Text\n",
    "        return [clean_text(text) for text in X]\n",
    "\n",
    "    def fit(self, X, y=None, **fit_params):\n",
    "        return self\n",
    "\n",
    "    def get_params(self, deep=True):\n",
    "        return {}\n",
    "\n",
    "# Basic function to clean the text\n",
    "def clean_text(text):\n",
    "    # Removing spaces and converting text into lowercase\n",
    "    return text.strip().lower()"
   ]
  },
  {
   "cell_type": "code",
   "execution_count": 13,
   "metadata": {},
   "outputs": [],
   "source": [
    "bow_vector = CountVectorizer(tokenizer = spacy_tokenizer, ngram_range=(1,1))\n",
    "tfidf_vector = TfidfVectorizer(tokenizer = spacy_tokenizer)\n",
    "feat_select = SelectFromModel(LinearSVC(penalty=\"l1\", dual=False, tol=1e-3))"
   ]
  },
  {
   "cell_type": "code",
   "execution_count": 14,
   "metadata": {},
   "outputs": [],
   "source": [
    "from sklearn.model_selection import train_test_split\n",
    "\n",
    "cnts = data.cat.value_counts()\n",
    "# acc: 0.62\n",
    "data_selecteds = data[~data.cat.isin(cnts[(cnts < 1200) | (cnts > 1800)].index)].reset_index(drop=True)\n",
    "# acc: 0.59\n",
    "# data_selecteds = data[~data.cat.isin(cnts[(cnts < 500) | (cnts > 2000)].index)].reset_index(drop=True)"
   ]
  },
  {
   "cell_type": "code",
   "execution_count": 15,
   "metadata": {},
   "outputs": [
    {
     "data": {
      "text/plain": [
       "science             1799\n",
       "computer_science    1785\n",
       "hardware            1779\n",
       "swift               1776\n",
       "macos               1773\n",
       "hacker_news         1772\n",
       "php                 1753\n",
       "big_data            1751\n",
       "linux               1750\n",
       "statistics          1748\n",
       "cyberpunk           1743\n",
       "datasets            1739\n",
       "scala               1732\n",
       "security            1716\n",
       "space               1715\n",
       "python              1714\n",
       "html                1707\n",
       "cpp                 1700\n",
       "vscode              1690\n",
       "decentralization    1688\n",
       "life                1682\n",
       "lisp                1677\n",
       "computer_vision     1665\n",
       "worldnews           1657\n",
       "bash                1654\n",
       "futurology          1651\n",
       "clojure             1643\n",
       "r                   1624\n",
       "cyber_security      1607\n",
       "visualization       1604\n",
       "computing           1600\n",
       "coding              1600\n",
       "css                 1588\n",
       "lua                 1586\n",
       "kotlin              1581\n",
       "movie               1568\n",
       "deep_learning       1556\n",
       "nlp                 1555\n",
       "ocaml               1529\n",
       "logic               1516\n",
       "erlang              1515\n",
       "robotics            1487\n",
       "physics             1482\n",
       "ethereum            1480\n",
       "javascript          1477\n",
       "algorithm           1473\n",
       "hacking             1473\n",
       "literature          1457\n",
       "math                1445\n",
       "crypto_currency     1429\n",
       "database            1407\n",
       "data_science        1406\n",
       "unix                1359\n",
       "julia               1275\n",
       "java                1263\n",
       "machine_learning    1256\n",
       "asm                 1254\n",
       "Name: cat, dtype: int64"
      ]
     },
     "execution_count": 15,
     "metadata": {},
     "output_type": "execute_result"
    }
   ],
   "source": [
    "data_selecteds.cat.value_counts()"
   ]
  },
  {
   "cell_type": "code",
   "execution_count": 16,
   "metadata": {
    "scrolled": false
   },
   "outputs": [
    {
     "data": {
      "text/plain": [
       "machine_learning        21385\n",
       "crypto                  11442\n",
       "os                       9550\n",
       "art                      9540\n",
       "science                  8624\n",
       "programming_tools        8430\n",
       "devops                   8331\n",
       "security                 6539\n",
       "hardware                 5793\n",
       "mobile                   5631\n",
       "worldnews                5594\n",
       "lisp                     5394\n",
       "algorithm                4434\n",
       "programming_language     4228\n",
       "database                 3671\n",
       "cpp                      3507\n",
       "html                     3295\n",
       "gamedev                  1938\n",
       "haskell                  1881\n",
       "perl                     1872\n",
       "ruby                     1836\n",
       "rust                     1834\n",
       "php                      1753\n",
       "scala                    1732\n",
       "python                   1714\n",
       "r                        1624\n",
       "lua                      1586\n",
       "kotlin                   1581\n",
       "ocaml                    1529\n",
       "erlang                   1515\n",
       "javascript               1477\n",
       "julia                    1275\n",
       "java                     1263\n",
       "asm                      1254\n",
       "Name: cat, dtype: int64"
      ]
     },
     "execution_count": 16,
     "metadata": {},
     "output_type": "execute_result"
    }
   ],
   "source": [
    "def merge_cats(cat):\n",
    "    cat_map = dict(\n",
    "        worldnews=['politics', 'environment'],\n",
    "        science=['space', 'physics', 'philosophy', 'scientific_research', 'futurology'],\n",
    "        computer_science=['computing', 'math', 'algorithm', 'logic', 'tiny_code', \n",
    "                          'software_architecture', 'decentralization', 'csbook'],\n",
    "        machine_learning=['causality', 'data_science', 'statistics', 'big_data', \n",
    "                          'deep_learning', 'computer_sound', 'nlp', 'computer_vision', \n",
    "                          'datasets', 'ai', 'agi', 'robotics'],\n",
    "        programming=['gamedev', 'coding'],\n",
    "        programming_tools=['vim', 'emacs', 'vscode', 'intellij_idea', 'git'],\n",
    "        programming_language=['forth', 'sml', 'tcl', 'objective_c', 'apl', 'prolog', 'smalltalk'],\n",
    "        art=['literature', 'scifi', 'music', 'painting', 'dream', 'movie'],\n",
    "        hardware=['raspberry_pi', 'arduino', ],\n",
    "        devops=['sysadmin', 'docker', 'cloud_computing'],\n",
    "        mobile=['ios', 'android'],\n",
    "        os=['linux', 'unix', 'macos', 'windows', 'osdev', 'unikernel'],\n",
    "        lisp=['scheme', 'clojure', 'common_lisp'],\n",
    "        crypto=['eos', 'tor', 'i2p', 'bitcoin', 'crypto_currency', 'ethereum'],\n",
    "        security=['cyberpunk', 'cyber_security', 'hacking'],\n",
    "        database=['nosql'],\n",
    "        other=['life'],\n",
    "    )\n",
    "    # see in confusion matrix for above cats predicts, add below:\n",
    "    cat_map['devops'].extend(['go'])\n",
    "    cat_map['machine_learning'].extend(['visualization'])\n",
    "    cat_map['html'] = ['css']\n",
    "    cat_map['mobile'].extend(['swift'])\n",
    "    del cat_map['programming']\n",
    "    del cat_map['computer_science']\n",
    "    cat_map['algorithm'] = ['math', 'logic']\n",
    "    cat_map['cpp'] = ['c']\n",
    "    cat_map['os'].extend(['bash'])\n",
    "    cat_map['art'].extend(['life'])\n",
    "    del cat_map['other']\n",
    "    cat_map['database'].extend(['decentralization'])\n",
    "    \n",
    "    for k, v in cat_map.items():\n",
    "        if cat in v:\n",
    "            return k\n",
    "    return cat\n",
    "\n",
    "# acc: 0.65\n",
    "data_selecteds = data[data.cat != 'hacker_news'].reset_index(drop=True)\n",
    "# see in confusion matrix for above cats predicts, add below:\n",
    "data_selecteds = data_selecteds[~data_selecteds.cat.isin(\n",
    "    ['computing', 'tiny_code', 'csbook', 'coding', 'programming', 'computer_science', 'software_architecture'])].reset_index(drop=True)\n",
    "\n",
    "data_selecteds.cat = data_selecteds.cat.map(merge_cats)\n",
    "\n",
    "# undersample reduced acc\n",
    "# idxs = []\n",
    "# for cat, cnt in data_selecteds.cat.value_counts().items():\n",
    "#     idxs.extend(np.random.permutation(np.squeeze(np.argwhere(data_selecteds.cat == cat)))[:1250])\n",
    "# data_selecteds = data_selecteds.loc[idxs].reset_index(drop=True)\n",
    "\n",
    "data_selecteds.cat.value_counts()"
   ]
  },
  {
   "cell_type": "code",
   "execution_count": 17,
   "metadata": {},
   "outputs": [],
   "source": [
    "_X_train, _X_test, _y_train, _y_test = train_test_split(data_selecteds.title, data_selecteds.cat, test_size=0.1)"
   ]
  },
  {
   "cell_type": "code",
   "execution_count": 18,
   "metadata": {},
   "outputs": [
    {
     "data": {
      "text/plain": [
       "<matplotlib.axes._subplots.AxesSubplot at 0x7f47fbd72fd0>"
      ]
     },
     "execution_count": 18,
     "metadata": {},
     "output_type": "execute_result"
    },
    {
     "data": {
      "image/png": "[encoded data removed]",
      "text/plain": [
       "<Figure size 432x936 with 1 Axes>"
      ]
     },
     "metadata": {
      "needs_background": "light"
     },
     "output_type": "display_data"
    }
   ],
   "source": [
    "data_selecteds.cat.value_counts().plot(kind='barh', figsize=(6, 13))"
   ]
  },
  {
   "cell_type": "code",
   "execution_count": 19,
   "metadata": {},
   "outputs": [
    {
     "data": {
      "text/plain": [
       "34"
      ]
     },
     "execution_count": 19,
     "metadata": {},
     "output_type": "execute_result"
    }
   ],
   "source": [
    "len(data_selecteds.cat.unique())"
   ]
  },
  {
   "cell_type": "code",
   "execution_count": 20,
   "metadata": {},
   "outputs": [],
   "source": [
    "# data_selecteds.profile_report(style={'full_width':True})"
   ]
  },
  {
   "cell_type": "code",
   "execution_count": 21,
   "metadata": {},
   "outputs": [],
   "source": [
    "resample = False\n",
    "# resample pipline droped acc?\n",
    "resample_pipline = False\n",
    "# acc: 0.66\n",
    "# ros = RandomOverSampler(random_state=0)\n",
    "# acc: 0.73\n",
    "# ros = ADASYN()\n",
    "# acc: 0.76\n",
    "ros = SMOTE()\n",
    "# acc: 0.65\n",
    "# ros = RandomUnderSampler()"
   ]
  },
  {
   "cell_type": "code",
   "execution_count": 22,
   "metadata": {},
   "outputs": [],
   "source": [
    "if resample and not resample_pipline:\n",
    "    preds = predictors().fit(_X_train)\n",
    "    tmp = preds.transform(_X_train)\n",
    "    tv = tfidf_vector.fit(tmp)\n",
    "    tmp = tv.transform(tmp)"
   ]
  },
  {
   "cell_type": "code",
   "execution_count": 23,
   "metadata": {},
   "outputs": [],
   "source": [
    "if resample and not resample_pipline:\n",
    "    X_train, y_train = ros.fit_resample(tmp, _y_train)\n",
    "else:\n",
    "    X_train, y_train = _X_train, _y_train"
   ]
  },
  {
   "cell_type": "code",
   "execution_count": 24,
   "metadata": {},
   "outputs": [],
   "source": [
    "if resample and not resample_pipline:\n",
    "    tmp = preds.transform(_X_test)\n",
    "    tmp = tv.transform(tmp)"
   ]
  },
  {
   "cell_type": "code",
   "execution_count": 25,
   "metadata": {},
   "outputs": [],
   "source": [
    "if resample and not resample_pipline:\n",
    "    X_test, y_test = ros.fit_resample(tmp, _y_test)\n",
    "else:\n",
    "    X_test, y_test = _X_test, _y_test"
   ]
  },
  {
   "cell_type": "code",
   "execution_count": 26,
   "metadata": {},
   "outputs": [
    {
     "data": {
      "text/plain": [
       "(137746,)"
      ]
     },
     "execution_count": 26,
     "metadata": {},
     "output_type": "execute_result"
    }
   ],
   "source": [
    "X_train.shape"
   ]
  },
  {
   "cell_type": "code",
   "execution_count": 27,
   "metadata": {
    "scrolled": true
   },
   "outputs": [],
   "source": [
    "from imblearn.pipeline import make_pipeline as make_pipeline_imb\n",
    "# classifier = BernoulliNB(alpha=.01)\n",
    "# classifier = ComplementNB(alpha=1)\n",
    "# classifier = LogisticRegression(random_state=0, solver='lbfgs', multi_class='multinomial')\n",
    "# classifier = SGDClassifier(n_jobs=-1, max_iter=10)\n",
    "# acc: 0.71, high recall: 0.72\n",
    "classifier = LinearSVC(class_weight='balanced', max_iter=1000)\n",
    "# acc: 0.686, low recall: 0.65\n",
    "# with SMOTE resample: acc: 0.73, recall: 0.73, but val/test(without resample) acc is low: 0.63\n",
    "# classifier = LinearSVC(max_iter=1000)\n",
    "\n",
    "if resample:\n",
    "    if not resample_pipline:\n",
    "        classifier.fit(X_train, y_train)\n",
    "    else:\n",
    "        pipe = make_pipeline_imb(predictors(),\n",
    "                                 tfidf_vector,\n",
    "                                 ros,\n",
    "                                 classifier)\n",
    "        pipe.fit(X_train,y_train)\n",
    "else:\n",
    "    # Create pipeline using Bag of Words\n",
    "    pipe = Pipeline([(\"cleaner\", predictors()),\n",
    "                     ('vectorizer', tfidf_vector),\n",
    "#                      ('feat_select', model_vector),\n",
    "                     ('classifier', classifier)])\n",
    "\n",
    "    # model generation\n",
    "    pipe.fit(X_train,y_train)"
   ]
  },
  {
   "cell_type": "code",
   "execution_count": 28,
   "metadata": {},
   "outputs": [],
   "source": [
    "def plot_confusion_matrix(cm, labels, title='Confusion matrix', cmap=plt.cm.Blues):\n",
    "    plt.figure(figsize=(20, 20))\n",
    "    plt.imshow(cm, interpolation='nearest', cmap=cmap)\n",
    "    plt.title(title)\n",
    "    plt.colorbar()\n",
    "    tick_marks = np.arange(len(labels))\n",
    "    target_names = labels\n",
    "    plt.xticks(tick_marks, target_names, rotation=45)\n",
    "    plt.yticks(tick_marks, target_names)\n",
    "    plt.tight_layout()\n",
    "    plt.ylabel('True label')\n",
    "    plt.xlabel('Predicted label')\n",
    "    \n",
    "def evaluate_prediction(predictions, target, title=\"Confusion matrix\"):\n",
    "    labels = data_selecteds.cat.unique()\n",
    "    print('accuracy %s' % metrics.accuracy_score(target, predictions))\n",
    "    cm = metrics.confusion_matrix(target, predictions, labels=labels)\n",
    "    print('confusion matrix\\n %s' % cm)\n",
    "    print('(row=expected, col=predicted)')\n",
    "    \n",
    "    cm_normalized = cm.astype('float') / cm.sum(axis=1)[:, np.newaxis]\n",
    "    plot_confusion_matrix(cm_normalized, labels, title + ' Normalized')\n",
    "    \n",
    "def predict(X, y, classifier):\n",
    "    predictions = classifier.predict(X)\n",
    "    evaluate_prediction(predictions, y)\n",
    "    return predictions"
   ]
  },
  {
   "cell_type": "code",
   "execution_count": 31,
   "metadata": {
    "scrolled": false
   },
   "outputs": [
    {
     "name": "stdout",
     "output_type": "stream",
     "text": [
      "accuracy 0.7069776558212466\n",
      "confusion matrix\n",
      " [[799  14  25 ...   2   4   2]\n",
      " [  7 453  24 ...   0   1   0]\n",
      " [ 38  62 633 ...   3   4   2]\n",
      " ...\n",
      " [  2   1   1 ...  71   5   2]\n",
      " [  3   2   0 ...  10 259   9]\n",
      " [  9   2   5 ...  18  23 575]]\n",
      "(row=expected, col=predicted)\n",
      "Accuracy: 0.7069776558212466\n",
      "Precision: 0.6568093926381172\n",
      "Recall: 0.7128207501249435\n"
     ]
    },
    {
     "data": {
      "image/png": "[encoded data removed]",
      "text/plain": [
       "<Figure size 1440x1440 with 2 Axes>"
      ]
     },
     "metadata": {
      "needs_background": "light"
     },
     "output_type": "display_data"
    }
   ],
   "source": [
    "from sklearn import metrics\n",
    "from imblearn.metrics import classification_report_imbalanced\n",
    "# Predicting with a test dataset\n",
    "if resample:\n",
    "    if not resample_pipline:\n",
    "        predicted = classifier.predict(X_test)\n",
    "    else:\n",
    "        predicted = pipe.predict(X_test)\n",
    "#     print(classification_report_imbalanced(y_test, y_pred))\n",
    "else:\n",
    "#     predicted = pipe.predict(X_test)\n",
    "    predicted = predict(X_test, y_test, pipe)\n",
    "\n",
    "# Model Accuracy\n",
    "print(\"Accuracy:\",metrics.accuracy_score(y_test, predicted))\n",
    "print(\"Precision:\",metrics.precision_score(y_test, predicted, average='macro'))\n",
    "print(\"Recall:\",metrics.recall_score(y_test, predicted, average='macro'))"
   ]
  },
  {
   "cell_type": "code",
   "execution_count": null,
   "metadata": {},
   "outputs": [],
   "source": [
    "X_pred = ['dfs: depth first search',\n",
    "              'How SAML 2.0 Authentication Works',\n",
    "              'What are the “best” codebases that you\\'ve encountered?',\n",
    "              'Book Review: Designing Data-Intensive Applications',\n",
    "              'Some things that might help you make better software',\n",
    "              'B-threads: programming in a way that allows for easier changes',\n",
    "              'Browser extensions are underrated: the promise of hackable software',\n",
    "              'Levels of code in Forth programming (2002)',\n",
    "              'encode/decode gpt network',\n",
    "             'it is not safe for software deploy',\n",
    "              'learning web coding in scheme',\n",
    "             'web code in nodejs',\n",
    "             'luajit embed in c',\n",
    "         'Dwindling CPAN Releases',\n",
    "         'LightSail 2 Spacecraft Successfully Demonstrates Flight by Light',\n",
    "          'Tokyo\\'s audiophile venues ',\n",
    "          'Composing better emails',\n",
    "          'Alarming surge in drug-resistant HIV uncovered ',\n",
    "          'LF: Fully Decentralized Fully Replicated Key/Value Store',\n",
    "          'Hawaii Extends Thirty Meter Telescope Permit Amid Protests',\n",
    "          'Show HN: Generate a fake app to replace any addictive app',\n",
    "          'Most internet service providers are gone – Sonic has survived and thrived',\n",
    "          'A Brief Guide to a Few Algebraic Structures ',\n",
    "          'Implementing Poincaré Embeddings (2017)',\n",
    "          'Launch HN: Hatchways (YC S19) – Internships Instead of Interviews',\n",
    "          'The Enduring Mystery of ‘Jawn,’ Philadelphia’s All-Purpose Noun (2016) ',\n",
    "          'Programming Algorithms: A Crash Course in Lisp',\n",
    "          'A New York Farm Stand’s Success: An Eye for the Next Big Thing',\n",
    "          'Music Recommendations in Hyperbolic Space',\n",
    "          'The Ethics of Web Performance',\n",
    "          'ThorShield Energy Weapon Protection Fabric',\n",
    "          'ZRNA – Software-defined analog circuits',\n",
    "          'Equifax removed the $125 claim payout option after millions submitted claims ',\n",
    "          'Marvin Minsky and the Ultimate Tinker Toy ',\n",
    "          'Filling hospitals with art reduces patient stress, anxiety and pain',\n",
    "          'Actalis: Insufficient Serial Number Entropy ',\n",
    "          'The Paradox of Toil (2010) ',\n",
    "          'A Raspberry Pi-powered live train station sign ',\n",
    "          'The Law Isn\\'t Ready for Psychedelic Medicine',\n",
    "          'A Transparent Display with Per-Pixel Color and Opacity Control',\n",
    "          'Cortex – An ML model deployment platform that runs in your AWS account',\n",
    "          'Plastic bag sales in England halved in past year',\n",
    "          'A Look at Overnight Stays at US National Parks',\n",
    "          'John Carmack on Parallel Implementations',\n",
    "          'Knuth on Huang\\'s Sensitivity Proof: “I\\'ve got the proof down to one page” [pdf]',\n",
    "          'A Readable Specification of TLS 1.3',\n",
    "          'Ray tracing with uLisp',\n",
    "          'Big O Notation – Using not-boring math to measure code’s efficiency ',\n",
    "          'Solving differential equations on a 6502 with Woz\\'s floating point code',\n",
    "          'Machine Learning That’s Light Enough for an Arduino',\n",
    "          'Detailed 3D map of Milky Way shows \\'warped\\' shape ',\n",
    "          'GNU C Library 2.30',\n",
    "          'A holographic view of a vertical plane, equally familiar and fulfilling in the first and final destination was the image of Jeremy and the countdown clock that had appeared in the hologram of the first moon orbiting above New Earth. “',\n",
    "          'Contributing to the Mozilla code base',\n",
    "          'A recurrent neural network for generating little stories about images',\n",
    "          'Building a Programming Language Pt. 3 – Interpreting',\n",
    "          'The Real Dark Web',\n",
    "          'Things Reacters do that Re-framers avoid',\n",
    "          'Low-level is easy (2008) ',\n",
    "          'Standard Ebooks: Free public-domain ebooks, carefully produced ',\n",
    "          'Living Near Trees, Not Just Green Space, Improves Wellbeing',\n",
    "         ]\n",
    "if resample:\n",
    "    tmp = preds.transform(X_pred)\n",
    "    tmp = tv.transform(tmp)\n",
    "    for i, v in enumerate(classifier.predict(tmp)):\n",
    "        print('(%s)' % v, X_pred[i])\n",
    "else:\n",
    "    for i, v in enumerate(pipe.predict(X_pred)):\n",
    "        print('(%s)' % v, X_pred[i])\n"
   ]
  },
  {
   "cell_type": "code",
   "execution_count": null,
   "metadata": {},
   "outputs": [],
   "source": [
    "import pickle\n",
    "\n",
    "# https://cmry.github.io/notes/serialize\n",
    "# https://cmry.github.io/notes/serialize-sk\n",
    "\n",
    "pkl_filename = \"data/%s_model.pkl\" % classifier.__class__.__name__\n",
    "with open(pkl_filename, 'wb') as file:\n",
    "    pickle.dump(pipe, file)\n",
    "    \n",
    "with open(pkl_filename, 'rb') as file:\n",
    "    pipe = pickle.load(file)\n",
    "    \n",
    "pipe.predict(['dfs: depth first search'])"
   ]
  }
 ],
 "metadata": {
  "kernelspec": {
   "display_name": "Python 3",
   "language": "python",
   "name": "python3"
  },
  "language_info": {
   "codemirror_mode": {
    "name": "ipython",
    "version": 3
   },
   "file_extension": ".py",
   "mimetype": "text/x-python",
   "name": "python",
   "nbconvert_exporter": "python",
   "pygments_lexer": "ipython3",
   "version": "3.6.7"
  },
  "require": {
   "paths": {
    "buttons.colvis": "https://cdn.datatables.net/buttons/1.5.6/js/buttons.colVis.min",
    "buttons.flash": "https://cdn.datatables.net/buttons/1.5.6/js/buttons.flash.min",
    "buttons.html5": "https://cdn.datatables.net/buttons/1.5.6/js/buttons.html5.min",
    "buttons.print": "https://cdn.datatables.net/buttons/1.5.6/js/buttons.print.min",
    "d3": "https://cdnjs.cloudflare.com/ajax/libs/d3/5.9.2/d3.min",
    "datatables.net": "https://cdn.datatables.net/1.10.18/js/jquery.dataTables",
    "datatables.net-buttons": "https://cdn.datatables.net/buttons/1.5.6/js/dataTables.buttons.min",
    "datatables.responsive": "https://cdn.datatables.net/responsive/2.2.2/js/dataTables.responsive.min",
    "datatables.scroller": "https://cdn.datatables.net/scroller/2.0.0/js/dataTables.scroller.min",
    "datatables.select": "https://cdn.datatables.net/select/1.3.0/js/dataTables.select.min",
    "jszip": "https://cdnjs.cloudflare.com/ajax/libs/jszip/2.5.0/jszip.min",
    "pdfmake": "https://cdnjs.cloudflare.com/ajax/libs/pdfmake/0.1.36/pdfmake.min",
    "vfsfonts": "https://cdnjs.cloudflare.com/ajax/libs/pdfmake/0.1.36/vfs_fonts"
   },
   "shim": {
    "buttons.colvis": {
     "deps": [
      "jszip",
      "datatables.net-buttons"
     ]
    },
    "buttons.flash": {
     "deps": [
      "jszip",
      "datatables.net-buttons"
     ]
    },
    "buttons.html5": {
     "deps": [
      "jszip",
      "datatables.net-buttons"
     ]
    },
    "buttons.print": {
     "deps": [
      "jszip",
      "datatables.net-buttons"
     ]
    },
    "datatables.net": {
     "exports": "$.fn.dataTable"
    },
    "datatables.net-buttons": {
     "deps": [
      "datatables.net"
     ]
    },
    "pdfmake": {
     "deps": [
      "datatables.net"
     ]
    },
    "vfsfonts": {
     "deps": [
      "datatables.net"
     ]
    }
   }
  },
  "toc": {
   "base_numbering": 1,
   "nav_menu": {},
   "number_sections": true,
   "sideBar": true,
   "skip_h1_title": false,
   "title_cell": "Table of Contents",
   "title_sidebar": "Contents",
   "toc_cell": false,
   "toc_position": {},
   "toc_section_display": true,
   "toc_window_display": false
  },
  "varInspector": {
   "cols": {
    "lenName": 16,
    "lenType": 16,
    "lenVar": 40
   },
   "kernels_config": {
    "python": {
     "delete_cmd_postfix": "",
     "delete_cmd_prefix": "del ",
     "library": "var_list.py",
     "varRefreshCmd": "print(var_dic_list())"
    },
    "r": {
     "delete_cmd_postfix": ") ",
     "delete_cmd_prefix": "rm(",
     "library": "var_list.r",
     "varRefreshCmd": "cat(var_dic_list()) "
    }
   },
   "position": {
    "height": "442px",
    "left": "910px",
    "right": "20px",
    "top": "120px",
    "width": "338px"
   },
   "types_to_exclude": [
    "module",
    "function",
    "builtin_function_or_method",
    "instance",
    "_Feature"
   ],
   "window_display": false
  }
 },
 "nbformat": 4,
 "nbformat_minor": 2
}
